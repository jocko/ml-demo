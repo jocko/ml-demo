{
 "cells": [
  {
   "cell_type": "code",
   "execution_count": 1,
   "metadata": {},
   "outputs": [],
   "source": [
    "import numpy as np\n",
    "import pandas as pd"
   ]
  },
  {
   "cell_type": "code",
   "execution_count": 2,
   "metadata": {},
   "outputs": [],
   "source": [
    "from sklearn.datasets import fetch_20newsgroups\n",
    "\n",
    "newsgroups = fetch_20newsgroups()"
   ]
  },
  {
   "cell_type": "code",
   "execution_count": 3,
   "metadata": {},
   "outputs": [
    {
     "data": {
      "text/plain": [
       "dict_keys(['data', 'filenames', 'target_names', 'target', 'DESCR'])"
      ]
     },
     "execution_count": 3,
     "metadata": {},
     "output_type": "execute_result"
    }
   ],
   "source": [
    "newsgroups.keys()"
   ]
  },
  {
   "cell_type": "code",
   "execution_count": 4,
   "metadata": {},
   "outputs": [],
   "source": [
    "#print(newsgroups.DESCR)"
   ]
  },
  {
   "cell_type": "code",
   "execution_count": 5,
   "metadata": {},
   "outputs": [
    {
     "data": {
      "text/plain": [
       "['alt.atheism',\n",
       " 'comp.graphics',\n",
       " 'comp.os.ms-windows.misc',\n",
       " 'comp.sys.ibm.pc.hardware',\n",
       " 'comp.sys.mac.hardware',\n",
       " 'comp.windows.x',\n",
       " 'misc.forsale',\n",
       " 'rec.autos',\n",
       " 'rec.motorcycles',\n",
       " 'rec.sport.baseball',\n",
       " 'rec.sport.hockey',\n",
       " 'sci.crypt',\n",
       " 'sci.electronics',\n",
       " 'sci.med',\n",
       " 'sci.space',\n",
       " 'soc.religion.christian',\n",
       " 'talk.politics.guns',\n",
       " 'talk.politics.mideast',\n",
       " 'talk.politics.misc',\n",
       " 'talk.religion.misc']"
      ]
     },
     "execution_count": 5,
     "metadata": {},
     "output_type": "execute_result"
    }
   ],
   "source": [
    "newsgroups.target_names"
   ]
  },
  {
   "cell_type": "code",
   "execution_count": 6,
   "metadata": {},
   "outputs": [
    {
     "name": "stdout",
     "output_type": "stream",
     "text": [
      "From: lerxst@wam.umd.edu (where's my thing)\n",
      "Subject: WHAT car is this!?\n",
      "Nntp-Posting-Host: rac3.wam.umd.edu\n",
      "Organization: University of Maryland, College Park\n",
      "Lines: 15\n",
      "\n",
      " I was wondering if anyone out there could enlighten me on this car I saw\n",
      "the other day. It was a 2-door sports car, looked to be from the late 60s/\n",
      "early 70s. It was called a Bricklin. The doors were really small. In addition,\n",
      "the front bumper was separate from the rest of the body. This is \n",
      "all I know. If anyone can tellme a model name, engine specs, years\n",
      "of production, where this car is made, history, or whatever info you\n",
      "have on this funky looking car, please e-mail.\n",
      "\n",
      "Thanks,\n",
      "- IL\n",
      "   ---- brought to you by your neighborhood Lerxst ----\n",
      "\n",
      "\n",
      "\n",
      "\n",
      "\n"
     ]
    }
   ],
   "source": [
    "print(newsgroups.data[0])"
   ]
  },
  {
   "cell_type": "code",
   "execution_count": 7,
   "metadata": {},
   "outputs": [
    {
     "data": {
      "text/plain": [
       "'rec.autos'"
      ]
     },
     "execution_count": 7,
     "metadata": {},
     "output_type": "execute_result"
    }
   ],
   "source": [
    "newsgroups.target_names[newsgroups.target[0]]"
   ]
  },
  {
   "cell_type": "code",
   "execution_count": 8,
   "metadata": {},
   "outputs": [],
   "source": [
    "categories = ['talk.politics.guns', 'talk.religion.misc', 'comp.graphics', 'rec.autos']\n",
    "newsgroups = fetch_20newsgroups(categories=categories)\n",
    "target_names = newsgroups.target_names\n",
    "#newsgroups_train = fetch_20newsgroups(categories=categories, subset='train')\n",
    "#newsgroups_test = fetch_20newsgroups(categories=categories, subset='test')"
   ]
  },
  {
   "cell_type": "code",
   "execution_count": 9,
   "metadata": {},
   "outputs": [],
   "source": [
    "#newsgroups_train.target.shape"
   ]
  },
  {
   "cell_type": "code",
   "execution_count": 10,
   "metadata": {},
   "outputs": [],
   "source": [
    "#newsgroups_test.target.shape"
   ]
  },
  {
   "cell_type": "code",
   "execution_count": 11,
   "metadata": {},
   "outputs": [
    {
     "name": "stdout",
     "output_type": "stream",
     "text": [
      "From: HADCRJAM@admin.uh.edu (MILLER, JIMMY A.)\n",
      "Subject: Re: BATF/FBI revenge\n",
      "Organization: University of Houston Administrative Computing\n",
      "Lines: 38\n",
      "Distribution: world\n",
      "NNTP-Posting-Host: uhad2.admin.uh.edu\n",
      "X-News-Reader: VMS NEWS 1.24\n",
      "In-Reply-To: donb@netcom.com's message of Tue, 20 Apr 1993 17:10:52 GMT\n",
      "\n",
      "In <donbC5sL24.Ewu@netcom.com> donb@netcom.com writes:\n",
      "\n",
      "> Anyway, here's how I see the Waco affair; I'd be interested in other peoples'\n",
      "> interpretations...\n",
      "> \n",
      "> 1. Koresh and his people were basically minding their own business.\n",
      "> 2. Some weapons violations may have been committed and I wouldn't have\n",
      ">    disapproved of prosecuting him for those violations.  However, I think\n",
      ">    the BATF was criminal for starting negotiations with a military style\n",
      ">    assault and for firing into a house where there were children and other\n",
      ">    noncombatants.\n",
      "> 3. I don't see they couldn't just leave a token guard on the place and wait\n",
      ">    the BDs out; I don't approve of the tear gas approach and, if it caused\n",
      ">    the fire to be started, I think the FBI agent responsible should spend\n",
      ">    10-20 years in jail.\n",
      "\n",
      "  I think the legal term would be \"negligent homicide\"\n",
      "\n",
      "> 4. However, if Koresh's response to the tear gas was to kill everyone there,\n",
      ">    I hold him largely responsible for their deaths.\n",
      "\n",
      "\n",
      "  Well, it's nice to see someone with a brain, a general lack of paranoia, and\n",
      "a willingness to put his thoughts in public.  I tend to agree with all you have\n",
      "said.\n",
      "\n",
      "  \"Never assume foul motives when stupidity will do.\" -- Jim's Corrolary to \n",
      "\t\t\t\t\t\t          Occam's Razor\n",
      "\n",
      "semper fi,\n",
      "\n",
      "Jammer Jim Miller \n",
      "Texas A&M University '89 and '91\n",
      "________________________________________________________________________________\n",
      " I don't speak for UH, which is too bad, because they could use the help.     \n",
      "\"Become one with the Student Billing System. *BE* the Student Billing System.\"\n",
      " \"Power finds its way to those who take a stand.  Stand up, Ordinary Man.\"    \n",
      "      ---Rik Emmet, Gil Moore, Mike Levine: Triumph \t\t              \n",
      "\n"
     ]
    }
   ],
   "source": [
    "print(newsgroups.data[0])"
   ]
  },
  {
   "cell_type": "code",
   "execution_count": 12,
   "metadata": {},
   "outputs": [
    {
     "data": {
      "text/plain": [
       "'talk.politics.guns'"
      ]
     },
     "execution_count": 12,
     "metadata": {},
     "output_type": "execute_result"
    }
   ],
   "source": [
    "target_names[newsgroups.target[0]]"
   ]
  },
  {
   "cell_type": "code",
   "execution_count": 13,
   "metadata": {},
   "outputs": [],
   "source": [
    "from sklearn.model_selection import train_test_split\n",
    "\n",
    "data_train, data_test, target_train, target_test = train_test_split(newsgroups.data,\n",
    "                                                                    newsgroups.target,\n",
    "                                                                    test_size=0.2,\n",
    "                                                                    random_state=42)"
   ]
  },
  {
   "cell_type": "code",
   "execution_count": 14,
   "metadata": {},
   "outputs": [
    {
     "data": {
      "text/plain": [
       "(2101,)"
      ]
     },
     "execution_count": 14,
     "metadata": {},
     "output_type": "execute_result"
    }
   ],
   "source": [
    "newsgroups.target.shape"
   ]
  },
  {
   "cell_type": "code",
   "execution_count": 15,
   "metadata": {},
   "outputs": [
    {
     "data": {
      "text/plain": [
       "(1680,)"
      ]
     },
     "execution_count": 15,
     "metadata": {},
     "output_type": "execute_result"
    }
   ],
   "source": [
    "target_train.shape"
   ]
  },
  {
   "cell_type": "code",
   "execution_count": 16,
   "metadata": {},
   "outputs": [
    {
     "data": {
      "text/plain": [
       "(421,)"
      ]
     },
     "execution_count": 16,
     "metadata": {},
     "output_type": "execute_result"
    }
   ],
   "source": [
    "target_test.shape"
   ]
  },
  {
   "cell_type": "code",
   "execution_count": 17,
   "metadata": {},
   "outputs": [
    {
     "data": {
      "text/plain": [
       "['am', 'and', 'short', 'stout', 'teapot']"
      ]
     },
     "execution_count": 17,
     "metadata": {},
     "output_type": "execute_result"
    }
   ],
   "source": [
    "from sklearn.feature_extraction.text import CountVectorizer\n",
    "\n",
    "vectorizer = CountVectorizer()\n",
    "vectorizer.fit(['I am teapot', 'Short and stout'])\n",
    "vectorizer.get_feature_names()"
   ]
  },
  {
   "cell_type": "code",
   "execution_count": 18,
   "metadata": {},
   "outputs": [
    {
     "data": {
      "text/html": [
       "<div>\n",
       "<style scoped>\n",
       "    .dataframe tbody tr th:only-of-type {\n",
       "        vertical-align: middle;\n",
       "    }\n",
       "\n",
       "    .dataframe tbody tr th {\n",
       "        vertical-align: top;\n",
       "    }\n",
       "\n",
       "    .dataframe thead th {\n",
       "        text-align: right;\n",
       "    }\n",
       "</style>\n",
       "<table border=\"1\" class=\"dataframe\">\n",
       "  <thead>\n",
       "    <tr style=\"text-align: right;\">\n",
       "      <th></th>\n",
       "      <th>am</th>\n",
       "      <th>and</th>\n",
       "      <th>short</th>\n",
       "      <th>stout</th>\n",
       "      <th>teapot</th>\n",
       "    </tr>\n",
       "  </thead>\n",
       "  <tbody>\n",
       "    <tr>\n",
       "      <th>0</th>\n",
       "      <td>1</td>\n",
       "      <td>0</td>\n",
       "      <td>0</td>\n",
       "      <td>0</td>\n",
       "      <td>1</td>\n",
       "    </tr>\n",
       "    <tr>\n",
       "      <th>1</th>\n",
       "      <td>0</td>\n",
       "      <td>1</td>\n",
       "      <td>2</td>\n",
       "      <td>0</td>\n",
       "      <td>0</td>\n",
       "    </tr>\n",
       "  </tbody>\n",
       "</table>\n",
       "</div>"
      ],
      "text/plain": [
       "   am  and  short  stout  teapot\n",
       "0   1    0      0      0       1\n",
       "1   0    1      2      0       0"
      ]
     },
     "execution_count": 18,
     "metadata": {},
     "output_type": "execute_result"
    }
   ],
   "source": [
    "pd.DataFrame(data=vectorizer.transform(['I am a little teapot', 'Short and short']).toarray(),\n",
    "            columns=vectorizer.get_feature_names())"
   ]
  },
  {
   "cell_type": "code",
   "execution_count": 43,
   "metadata": {},
   "outputs": [
    {
     "data": {
      "text/plain": [
       "(1680, 29450)"
      ]
     },
     "execution_count": 43,
     "metadata": {},
     "output_type": "execute_result"
    }
   ],
   "source": [
    "tf_vectorizer = CountVectorizer()\n",
    "tf_train = tf_vectorizer.fit_transform(data_train)\n",
    "tf_train.shape"
   ]
  },
  {
   "cell_type": "code",
   "execution_count": 44,
   "metadata": {},
   "outputs": [
    {
     "data": {
      "text/plain": [
       "MultinomialNB(alpha=1.0, class_prior=None, fit_prior=True)"
      ]
     },
     "execution_count": 44,
     "metadata": {},
     "output_type": "execute_result"
    }
   ],
   "source": [
    "from sklearn.naive_bayes import MultinomialNB\n",
    "\n",
    "clf = MultinomialNB()\n",
    "clf.fit(tf_train, target_train)"
   ]
  },
  {
   "cell_type": "code",
   "execution_count": 47,
   "metadata": {},
   "outputs": [
    {
     "data": {
      "text/plain": [
       "0.9964285714285714"
      ]
     },
     "execution_count": 47,
     "metadata": {},
     "output_type": "execute_result"
    }
   ],
   "source": [
    "from sklearn import metrics\n",
    "\n",
    "pred = clf.predict(tf_train)\n",
    "metrics.accuracy_score(target_train, pred)"
   ]
  },
  {
   "cell_type": "code",
   "execution_count": 48,
   "metadata": {},
   "outputs": [
    {
     "data": {
      "text/plain": [
       "0.9738717339667459"
      ]
     },
     "execution_count": 48,
     "metadata": {},
     "output_type": "execute_result"
    }
   ],
   "source": [
    "pred = clf.predict(tf_vectorizer.transform(data_test))\n",
    "metrics.accuracy_score(target_test, pred)"
   ]
  },
  {
   "cell_type": "code",
   "execution_count": 23,
   "metadata": {},
   "outputs": [],
   "source": [
    "def show_most_informative_features(classifier, vectorizer, categories):\n",
    "    for i, c in enumerate(categories):\n",
    "        print(\"%s: %s\" % (c, \", \".join(np.asarray(vectorizer.get_feature_names())[np.argsort(classifier.coef_[i])[-10:]])))"
   ]
  },
  {
   "cell_type": "code",
   "execution_count": 49,
   "metadata": {},
   "outputs": [
    {
     "name": "stdout",
     "output_type": "stream",
     "text": [
      "comp.graphics: edu, from, it, for, is, in, of, and, to, the\n",
      "rec.autos: for, you, that, is, it, in, and, of, to, the\n",
      "talk.politics.guns: for, it, you, is, that, in, and, of, to, the\n",
      "talk.religion.misc: not, it, you, is, in, that, and, to, of, the\n"
     ]
    }
   ],
   "source": [
    "show_most_informative_features(clf, tf_vectorizer, target_names)"
   ]
  },
  {
   "cell_type": "code",
   "execution_count": 62,
   "metadata": {},
   "outputs": [
    {
     "data": {
      "text/plain": [
       "Pipeline(memory=None,\n",
       "     steps=[('countvectorizer', CountVectorizer(analyzer='word', binary=False, decode_error='strict',\n",
       "        dtype=<class 'numpy.int64'>, encoding='utf-8', input='content',\n",
       "        lowercase=True, max_df=1.0, max_features=None, min_df=1,\n",
       "        ngram_range=(1, 1), preprocessor=None, stop_words='english',\n",
       "        strip_accents=None, token_pattern='(?u)\\\\b\\\\w\\\\w+\\\\b',\n",
       "        tokenizer=None, vocabulary=None)), ('multinomialnb', MultinomialNB(alpha=1.0, class_prior=None, fit_prior=True))])"
      ]
     },
     "execution_count": 62,
     "metadata": {},
     "output_type": "execute_result"
    }
   ],
   "source": [
    "from sklearn.pipeline import make_pipeline\n",
    "\n",
    "model1 = make_pipeline(\n",
    "    CountVectorizer(stop_words='english'),\n",
    "    MultinomialNB())\n",
    "model1.fit(data_train, target_train)"
   ]
  },
  {
   "cell_type": "code",
   "execution_count": 63,
   "metadata": {},
   "outputs": [
    {
     "name": "stdout",
     "output_type": "stream",
     "text": [
      "comp.graphics: host, posting, university, image, com, organization, subject, graphics, lines, edu\n",
      "rec.autos: just, cars, writes, article, organization, lines, subject, com, car, edu\n",
      "talk.politics.guns: guns, article, writes, organization, lines, subject, people, com, gun, edu\n",
      "talk.religion.misc: article, writes, lines, organization, jesus, subject, people, god, com, edu\n"
     ]
    }
   ],
   "source": [
    "show_most_informative_features(\n",
    "    model1.named_steps['multinomialnb'],\n",
    "    model1.named_steps['countvectorizer'],\n",
    "    target_names)"
   ]
  },
  {
   "cell_type": "code",
   "execution_count": 64,
   "metadata": {},
   "outputs": [
    {
     "data": {
      "text/plain": [
       "array([0])"
      ]
     },
     "execution_count": 64,
     "metadata": {},
     "output_type": "execute_result"
    }
   ],
   "source": [
    "model1.predict(['foo'])"
   ]
  },
  {
   "cell_type": "code",
   "execution_count": 25,
   "metadata": {},
   "outputs": [],
   "source": [
    "def predict(classifier, vectorizer, categories, doc):\n",
    "    return categories[classifier.predict(vectorizer.transform([doc]))[0]]"
   ]
  },
  {
   "cell_type": "code",
   "execution_count": 26,
   "metadata": {},
   "outputs": [
    {
     "name": "stdout",
     "output_type": "stream",
     "text": [
      "comp.graphics: host, posting, university, image, com, organization, subject, graphics, lines, edu\n",
      "rec.autos: just, cars, writes, article, organization, lines, subject, com, car, edu\n",
      "talk.politics.guns: guns, article, writes, organization, lines, subject, people, com, gun, edu\n",
      "talk.religion.misc: article, writes, lines, organization, jesus, subject, people, god, com, edu\n"
     ]
    }
   ],
   "source": [
    "tf_vectorizer = CountVectorizer(\n",
    "    stop_words='english'\n",
    ")\n",
    "tf_train = tf_vectorizer.fit_transform(data_train)\n",
    "clf = MultinomialNB()\n",
    "clf.fit(tf_train, target_train)\n",
    "show_most_informative_features(clf, tf_vectorizer, target_names)"
   ]
  },
  {
   "cell_type": "code",
   "execution_count": 27,
   "metadata": {},
   "outputs": [
    {
     "data": {
      "text/plain": [
       "0.9762470308788599"
      ]
     },
     "execution_count": 27,
     "metadata": {},
     "output_type": "execute_result"
    }
   ],
   "source": [
    "tf_test = tf_vectorizer.transform(data_test)\n",
    "pred = clf.predict(tf_test)\n",
    "metrics.accuracy_score(target_test, pred)"
   ]
  },
  {
   "cell_type": "code",
   "execution_count": 28,
   "metadata": {},
   "outputs": [
    {
     "name": "stdout",
     "output_type": "stream",
     "text": [
      "\n",
      "\n",
      "  I think the legal term would be \"negligent homicide\"\n",
      "\n",
      "\n",
      "\n",
      "  Well, it's nice to see someone with a brain, a general lack of paranoia, and\n",
      "a willingness to put his thoughts in public.  I tend to agree with all you have\n",
      "said.\n",
      "\n",
      "  \"Never assume foul motives when stupidity will do.\" -- Jim's Corrolary to \n",
      "\t\t\t\t\t\t          Occam's Razor\n",
      "\n",
      "semper fi,\n"
     ]
    }
   ],
   "source": [
    "newsgroups_clean = fetch_20newsgroups(categories=categories, remove=('headers', 'footers', 'quotes'))\n",
    "print(newsgroups_clean.data[0])"
   ]
  },
  {
   "cell_type": "code",
   "execution_count": 29,
   "metadata": {},
   "outputs": [],
   "source": [
    "data_train_clean, data_test_clean, target_train_clean, target_test_clean = train_test_split(\n",
    "    newsgroups_clean.data,\n",
    "    newsgroups_clean.target,\n",
    "    test_size=0.2,\n",
    "    random_state=42)"
   ]
  },
  {
   "cell_type": "code",
   "execution_count": 37,
   "metadata": {},
   "outputs": [
    {
     "name": "stdout",
     "output_type": "stream",
     "text": [
      "\n",
      "\n",
      "There is a rite like this described in Joseph Campbell's\n",
      "_Occidental_Mythology_.  He also described levels of initiation, I think\n",
      "6?  I don't know where Campbell got his info, but I remember thinking he\n",
      "was being a little eclectic.\n",
      "\n",
      "\n",
      "Quite a bit.  If you haven't read Campbell, give him a try.  \n",
      "\n",
      "talk.religion.misc\n"
     ]
    }
   ],
   "source": [
    "print(data_test_clean[0])\n",
    "print(target_names[target_test_clean[0]])"
   ]
  },
  {
   "cell_type": "code",
   "execution_count": 42,
   "metadata": {},
   "outputs": [
    {
     "data": {
      "text/plain": [
       "0.8741092636579573"
      ]
     },
     "execution_count": 42,
     "metadata": {},
     "output_type": "execute_result"
    }
   ],
   "source": [
    "tf_test = tf_vectorizer.transform(data_test_clean)\n",
    "pred = clf.predict(tf_test)\n",
    "metrics.accuracy_score(target_test_clean, pred)"
   ]
  },
  {
   "cell_type": "code",
   "execution_count": 40,
   "metadata": {},
   "outputs": [
    {
     "name": "stdout",
     "output_type": "stream",
     "text": [
      "comp.graphics: files, ftp, software, file, program, use, data, edu, image, graphics\n",
      "rec.autos: time, think, engine, new, good, don, just, like, cars, car\n",
      "talk.politics.guns: know, government, think, like, right, just, don, guns, people, gun\n",
      "talk.religion.misc: know, bible, think, say, just, christian, don, jesus, people, god\n"
     ]
    },
    {
     "data": {
      "text/plain": [
       "0.8741092636579573"
      ]
     },
     "execution_count": 40,
     "metadata": {},
     "output_type": "execute_result"
    }
   ],
   "source": [
    "tf_vectorizer = CountVectorizer(\n",
    "    stop_words='english'\n",
    ")\n",
    "tf_train = tf_vectorizer.fit_transform(data_train_clean)\n",
    "clf = MultinomialNB()\n",
    "clf.fit(tf_train, target_train_clean)\n",
    "show_most_informative_features(clf, tf_vectorizer, target_names)\n",
    "tf_test = tf_vectorizer.transform(data_test_clean)\n",
    "pred = clf.predict(tf_test)\n",
    "metrics.accuracy_score(target_test_clean, pred)"
   ]
  },
  {
   "cell_type": "code",
   "execution_count": 32,
   "metadata": {},
   "outputs": [
    {
     "data": {
      "text/plain": [
       "'rec.autos'"
      ]
     },
     "execution_count": 32,
     "metadata": {},
     "output_type": "execute_result"
    }
   ],
   "source": [
    "predict(clf, tf_vectorizer, target_names, 'a legal term for illegal car ftp software')"
   ]
  },
  {
   "cell_type": "code",
   "execution_count": 33,
   "metadata": {},
   "outputs": [],
   "source": [
    "#import pyLDAvis\n",
    "#import pyLDAvis.sklearn\n",
    "#pyLDAvis.enable_notebook()"
   ]
  }
 ],
 "metadata": {
  "kernelspec": {
   "display_name": "Python 3",
   "language": "python",
   "name": "python3"
  },
  "language_info": {
   "codemirror_mode": {
    "name": "ipython",
    "version": 3
   },
   "file_extension": ".py",
   "mimetype": "text/x-python",
   "name": "python",
   "nbconvert_exporter": "python",
   "pygments_lexer": "ipython3",
   "version": "3.7.1"
  }
 },
 "nbformat": 4,
 "nbformat_minor": 2
}
